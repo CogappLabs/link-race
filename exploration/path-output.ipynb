{
 "cells": [
  {
   "cell_type": "markdown",
   "metadata": {},
   "source": [
    "# Generating the link-race dataset\n",
    "\n",
    "For a given point A & B, find the possible paths, and for each, create a data structure containing the valid path, and options for each node along the way."
   ]
  },
  {
   "cell_type": "markdown",
   "metadata": {},
   "source": [
    "## Setup"
   ]
  },
  {
   "cell_type": "code",
   "execution_count": 51,
   "metadata": {},
   "outputs": [],
   "source": [
    "from rdflib import Graph\n",
    "from rdflib.extras.external_graph_libs import rdflib_to_networkx_graph\n",
    "import networkx as nx\n",
    "from networkx.algorithms.shortest_paths.generic import all_shortest_paths\n",
    "from rdflib import URIRef\n",
    "import json\n",
    "import random"
   ]
  },
  {
   "cell_type": "code",
   "execution_count": 2,
   "metadata": {},
   "outputs": [],
   "source": [
    "def get_neighbours(G, edge, n=3):\n",
    "    \"\"\"return the first n neighbours of a given node\n",
    "    \"\"\"\n",
    "    return [i[:] for i in nx.neighbors(G, edge[0]) if (i[:] != edge[1][:]) and (i[:].startswith('http'))][:n]"
   ]
  },
  {
   "cell_type": "code",
   "execution_count": 3,
   "metadata": {},
   "outputs": [
    {
     "name": "stdout",
     "output_type": "stream",
     "text": [
      "rdflib Graph loaded successfully with 2199906 triples\n"
     ]
    }
   ],
   "source": [
    "path = \"./hc_dump_latest-wdt&foaf-20211117-151212.nt\"\n",
    "rg = Graph().parse(path, format='nt')\n",
    "print(\"rdflib Graph loaded successfully with {} triples\".format(len(rg)))"
   ]
  },
  {
   "cell_type": "code",
   "execution_count": 4,
   "metadata": {},
   "outputs": [
    {
     "name": "stdout",
     "output_type": "stream",
     "text": [
      "networkx Graph loaded successfully with length 1187202\n"
     ]
    }
   ],
   "source": [
    "G = rdflib_to_networkx_graph(rg)\n",
    "print(\"networkx Graph loaded successfully with length {}\".format(len(G)))"
   ]
  },
  {
   "cell_type": "code",
   "execution_count": 49,
   "metadata": {},
   "outputs": [],
   "source": [
    "nodes_vam = [i for i in nx.nodes(G) if 'collections.vam.ac.uk' in str(i)]\n",
    "nodes_sci = [i for i in nx.nodes(G) if 'collection.sciencemuseumgroup' in str(i)]"
   ]
  },
  {
   "cell_type": "markdown",
   "metadata": {},
   "source": [
    "## Path finding"
   ]
  },
  {
   "cell_type": "code",
   "execution_count": 70,
   "metadata": {},
   "outputs": [
    {
     "name": "stdout",
     "output_type": "stream",
     "text": [
      "http://collections.vam.ac.uk/item/O916083 -> https://collection.sciencemuseumgroup.org.uk/documents/aa110114868\n"
     ]
    }
   ],
   "source": [
    "# defining point A & B\n",
    "A = random.choice(nodes_vam)\n",
    "B = random.choice(nodes_sci)\n",
    "print(f'{A} -> {B}')\n",
    "\n",
    "ent_a = URIRef(A)\n",
    "ent_b = URIRef(B)"
   ]
  },
  {
   "cell_type": "code",
   "execution_count": 71,
   "metadata": {},
   "outputs": [
    {
     "ename": "NetworkXNoPath",
     "evalue": "Target https://collection.sciencemuseumgroup.org.uk/documents/aa110114868 cannot be reachedfrom given sources",
     "output_type": "error",
     "traceback": [
      "\u001b[0;31m---------------------------------------------------------------------------\u001b[0m",
      "\u001b[0;31mNetworkXNoPath\u001b[0m                            Traceback (most recent call last)",
      "\u001b[0;32m/var/folders/13/gw77zyj9329g_rwyvbxvxcq80000gq/T/ipykernel_14368/3729951210.py\u001b[0m in \u001b[0;36m<module>\u001b[0;34m\u001b[0m\n\u001b[1;32m      1\u001b[0m \u001b[0;31m# calculating the paths\u001b[0m\u001b[0;34m\u001b[0m\u001b[0;34m\u001b[0m\u001b[0m\n\u001b[1;32m      2\u001b[0m \u001b[0mall_sps\u001b[0m \u001b[0;34m=\u001b[0m \u001b[0mall_shortest_paths\u001b[0m\u001b[0;34m(\u001b[0m\u001b[0mG\u001b[0m\u001b[0;34m,\u001b[0m \u001b[0ment_a\u001b[0m\u001b[0;34m,\u001b[0m \u001b[0ment_b\u001b[0m\u001b[0;34m)\u001b[0m\u001b[0;34m\u001b[0m\u001b[0;34m\u001b[0m\u001b[0m\n\u001b[0;32m----> 3\u001b[0;31m \u001b[0mpath_graphs\u001b[0m \u001b[0;34m=\u001b[0m \u001b[0;34m[\u001b[0m\u001b[0mnx\u001b[0m\u001b[0;34m.\u001b[0m\u001b[0mpath_graph\u001b[0m\u001b[0;34m(\u001b[0m\u001b[0msp\u001b[0m\u001b[0;34m)\u001b[0m \u001b[0;32mfor\u001b[0m \u001b[0msp\u001b[0m \u001b[0;32min\u001b[0m \u001b[0mall_sps\u001b[0m\u001b[0;34m]\u001b[0m\u001b[0;34m\u001b[0m\u001b[0;34m\u001b[0m\u001b[0m\n\u001b[0m",
      "\u001b[0;32m/var/folders/13/gw77zyj9329g_rwyvbxvxcq80000gq/T/ipykernel_14368/3729951210.py\u001b[0m in \u001b[0;36m<listcomp>\u001b[0;34m(.0)\u001b[0m\n\u001b[1;32m      1\u001b[0m \u001b[0;31m# calculating the paths\u001b[0m\u001b[0;34m\u001b[0m\u001b[0;34m\u001b[0m\u001b[0m\n\u001b[1;32m      2\u001b[0m \u001b[0mall_sps\u001b[0m \u001b[0;34m=\u001b[0m \u001b[0mall_shortest_paths\u001b[0m\u001b[0;34m(\u001b[0m\u001b[0mG\u001b[0m\u001b[0;34m,\u001b[0m \u001b[0ment_a\u001b[0m\u001b[0;34m,\u001b[0m \u001b[0ment_b\u001b[0m\u001b[0;34m)\u001b[0m\u001b[0;34m\u001b[0m\u001b[0;34m\u001b[0m\u001b[0m\n\u001b[0;32m----> 3\u001b[0;31m \u001b[0mpath_graphs\u001b[0m \u001b[0;34m=\u001b[0m \u001b[0;34m[\u001b[0m\u001b[0mnx\u001b[0m\u001b[0;34m.\u001b[0m\u001b[0mpath_graph\u001b[0m\u001b[0;34m(\u001b[0m\u001b[0msp\u001b[0m\u001b[0;34m)\u001b[0m \u001b[0;32mfor\u001b[0m \u001b[0msp\u001b[0m \u001b[0;32min\u001b[0m \u001b[0mall_sps\u001b[0m\u001b[0;34m]\u001b[0m\u001b[0;34m\u001b[0m\u001b[0;34m\u001b[0m\u001b[0m\n\u001b[0m",
      "\u001b[0;32m~/.pyenv/versions/3.10.0/envs/heritage-connector/lib/python3.10/site-packages/networkx/algorithms/shortest_paths/generic.py\u001b[0m in \u001b[0;36m_build_paths_from_predecessors\u001b[0;34m(sources, target, pred)\u001b[0m\n\u001b[1;32m    523\u001b[0m     \"\"\"\n\u001b[1;32m    524\u001b[0m     \u001b[0;32mif\u001b[0m \u001b[0mtarget\u001b[0m \u001b[0;32mnot\u001b[0m \u001b[0;32min\u001b[0m \u001b[0mpred\u001b[0m\u001b[0;34m:\u001b[0m\u001b[0;34m\u001b[0m\u001b[0;34m\u001b[0m\u001b[0m\n\u001b[0;32m--> 525\u001b[0;31m         raise nx.NetworkXNoPath(\n\u001b[0m\u001b[1;32m    526\u001b[0m             \u001b[0;34mf\"Target {target} cannot be reached\"\u001b[0m \u001b[0;34mf\"from given sources\"\u001b[0m\u001b[0;34m\u001b[0m\u001b[0;34m\u001b[0m\u001b[0m\n\u001b[1;32m    527\u001b[0m         )\n",
      "\u001b[0;31mNetworkXNoPath\u001b[0m: Target https://collection.sciencemuseumgroup.org.uk/documents/aa110114868 cannot be reachedfrom given sources"
     ]
    }
   ],
   "source": [
    "# calculating the paths\n",
    "all_sps = all_shortest_paths(G, ent_a, ent_b)\n",
    "path_graphs = [nx.path_graph(sp) for sp in all_sps]"
   ]
  },
  {
   "cell_type": "code",
   "execution_count": null,
   "metadata": {},
   "outputs": [],
   "source": [
    "# for each found path\n",
    "# list of dicts, where key = each step of the path\n",
    "# within each dict is next-best-step, and 3 (random) connected 'neighbour' nodes\n",
    "paths_json = {}\n",
    "for ix, path in enumerate(path_graphs): \n",
    "    path_edges = [i for i in path.edges()]\n",
    "\n",
    "    path_json = []\n",
    "    for edge in path_edges:\n",
    "        path_json.append({\n",
    "            edge[0][:]: {\n",
    "            'next-best-step': edge[1][:],\n",
    "            'neighbours': get_neighbours(G, edge),\n",
    "            }}\n",
    "        )\n",
    "    path_json.append({\n",
    "        path_edges[-1][1][:]: {\n",
    "            'next-best-step': 'END',\n",
    "            'neighbours': [],\n",
    "        }\n",
    "    })\n",
    "    paths_json[f'path_{ix}'] = path_json"
   ]
  },
  {
   "cell_type": "code",
   "execution_count": null,
   "metadata": {},
   "outputs": [
    {
     "data": {
      "text/plain": [
       "{'path_0': [{'http://collections.vam.ac.uk/item/O1389838': {'next-best-step': 'https://api.vam.ac.uk/v2/objects/search?id_technique=AAT53271',\n",
       "    'neighbours': ['https://api.vam.ac.uk/v2/objects/search?id_person=AUTH320983',\n",
       "     'https://api.vam.ac.uk/v2/objects/search?id_person=AUTH316738',\n",
       "     'https://api.vam.ac.uk/v2/objects/search?id_technique=AAT131119']}},\n",
       "  {'https://api.vam.ac.uk/v2/objects/search?id_technique=AAT53271': {'next-best-step': 'http://collections.vam.ac.uk/item/O1519245',\n",
       "    'neighbours': ['http://collections.vam.ac.uk/item/O690456',\n",
       "     'http://collections.vam.ac.uk/item/O701261',\n",
       "     'http://collections.vam.ac.uk/item/O689095']}},\n",
       "  {'http://collections.vam.ac.uk/item/O1519245': {'next-best-step': 'made in england',\n",
       "    'neighbours': ['https://api.vam.ac.uk/v2/objects/search?id_organisation=AUTH355221',\n",
       "     'https://api.vam.ac.uk/v2/objects/search?id_organisation=AUTH355220',\n",
       "     'https://api.vam.ac.uk/v2/objects/search?id_technique=AAT53271']}},\n",
       "  {'made in england': {'next-best-step': 'https://collection.sciencemuseumgroup.org.uk/objects/co8010891',\n",
       "    'neighbours': ['http://collections.vam.ac.uk/item/O1519245',\n",
       "     'https://collection.sciencemuseumgroup.org.uk/objects/co8010326']}},\n",
       "  {'https://collection.sciencemuseumgroup.org.uk/objects/co8010891': {'next-best-step': 'https://collection.sciencemuseumgroup.org.uk/people/cp21665',\n",
       "    'neighbours': []}},\n",
       "  {'https://collection.sciencemuseumgroup.org.uk/people/cp21665': {'next-best-step': 'https://collection.sciencemuseumgroup.org.uk/objects/co8602393',\n",
       "    'neighbours': ['https://collection.sciencemuseumgroup.org.uk/objects/co174069',\n",
       "     'https://collection.sciencemuseumgroup.org.uk/objects/co149366',\n",
       "     'https://collection.sciencemuseumgroup.org.uk/objects/co8208115']}},\n",
       "  {'https://collection.sciencemuseumgroup.org.uk/objects/co8602393': {'next-best-step': 'END',\n",
       "    'neighbours': []}}],\n",
       " 'path_1': [{'http://collections.vam.ac.uk/item/O1389838': {'next-best-step': 'https://api.vam.ac.uk/v2/objects/search?id_technique=AAT53271',\n",
       "    'neighbours': ['https://api.vam.ac.uk/v2/objects/search?id_person=AUTH320983',\n",
       "     'https://api.vam.ac.uk/v2/objects/search?id_person=AUTH316738',\n",
       "     'https://api.vam.ac.uk/v2/objects/search?id_technique=AAT131119']}},\n",
       "  {'https://api.vam.ac.uk/v2/objects/search?id_technique=AAT53271': {'next-best-step': 'http://collections.vam.ac.uk/item/O1519245',\n",
       "    'neighbours': ['http://collections.vam.ac.uk/item/O690456',\n",
       "     'http://collections.vam.ac.uk/item/O701261',\n",
       "     'http://collections.vam.ac.uk/item/O689095']}},\n",
       "  {'http://collections.vam.ac.uk/item/O1519245': {'next-best-step': 'made in england',\n",
       "    'neighbours': ['https://api.vam.ac.uk/v2/objects/search?id_organisation=AUTH355221',\n",
       "     'https://api.vam.ac.uk/v2/objects/search?id_organisation=AUTH355220',\n",
       "     'https://api.vam.ac.uk/v2/objects/search?id_technique=AAT53271']}},\n",
       "  {'made in england': {'next-best-step': 'https://collection.sciencemuseumgroup.org.uk/objects/co8010326',\n",
       "    'neighbours': ['http://collections.vam.ac.uk/item/O1519245',\n",
       "     'https://collection.sciencemuseumgroup.org.uk/objects/co8010891']}},\n",
       "  {'https://collection.sciencemuseumgroup.org.uk/objects/co8010326': {'next-best-step': 'https://collection.sciencemuseumgroup.org.uk/people/cp21665',\n",
       "    'neighbours': []}},\n",
       "  {'https://collection.sciencemuseumgroup.org.uk/people/cp21665': {'next-best-step': 'https://collection.sciencemuseumgroup.org.uk/objects/co8602393',\n",
       "    'neighbours': ['https://collection.sciencemuseumgroup.org.uk/objects/co174069',\n",
       "     'https://collection.sciencemuseumgroup.org.uk/objects/co149366',\n",
       "     'https://collection.sciencemuseumgroup.org.uk/objects/co8208115']}},\n",
       "  {'https://collection.sciencemuseumgroup.org.uk/objects/co8602393': {'next-best-step': 'END',\n",
       "    'neighbours': []}}]}"
      ]
     },
     "execution_count": 14,
     "metadata": {},
     "output_type": "execute_result"
    }
   ],
   "source": [
    "# paths_json"
   ]
  },
  {
   "cell_type": "code",
   "execution_count": null,
   "metadata": {},
   "outputs": [],
   "source": [
    "with open('paths.json', 'w') as paths_file:\n",
    "    json.dump(paths_json, paths_file, indent=2, sort_keys=True)"
   ]
  }
 ],
 "metadata": {
  "interpreter": {
   "hash": "b334508d208b483b273471960992ad0a85e9509e21e432faf161a8a75e53e20c"
  },
  "kernelspec": {
   "display_name": "Python 3.10.0 64-bit ('heritage-connector': pyenv)",
   "language": "python",
   "name": "python3"
  },
  "language_info": {
   "codemirror_mode": {
    "name": "ipython",
    "version": 3
   },
   "file_extension": ".py",
   "mimetype": "text/x-python",
   "name": "python",
   "nbconvert_exporter": "python",
   "pygments_lexer": "ipython3",
   "version": "3.10.0"
  },
  "orig_nbformat": 4
 },
 "nbformat": 4,
 "nbformat_minor": 2
}
