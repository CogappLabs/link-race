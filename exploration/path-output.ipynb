{
 "cells": [
  {
   "cell_type": "code",
   "execution_count": 1,
   "metadata": {},
   "outputs": [],
   "source": [
    "from rdflib import Graph\n",
    "from rdflib.extras.external_graph_libs import rdflib_to_networkx_graph\n",
    "import networkx as nx\n",
    "from networkx.algorithms.shortest_paths.generic import all_shortest_paths\n",
    "from rdflib import URIRef"
   ]
  },
  {
   "cell_type": "code",
   "execution_count": 49,
   "metadata": {},
   "outputs": [],
   "source": [
    "def get_neighbours(G, edge, n=3):\n",
    "    \"\"\"return the first n neighbours of a given node\n",
    "    \"\"\"\n",
    "    return [i[:] for i in nx.neighbors(G, edge[0]) if (i[:] != edge[1][:]) and (i[:].startswith('http'))][:n]"
   ]
  },
  {
   "cell_type": "code",
   "execution_count": 9,
   "metadata": {},
   "outputs": [
    {
     "name": "stdout",
     "output_type": "stream",
     "text": [
      "rdflib Graph loaded successfully with 2199906 triples\n"
     ]
    }
   ],
   "source": [
    "path = \"./hc_dump_latest-wdt&foaf-20211117-151212.nt\"\n",
    "rg = Graph().parse(path, format='nt')\n",
    "print(\"rdflib Graph loaded successfully with {} triples\".format(len(rg)))"
   ]
  },
  {
   "cell_type": "code",
   "execution_count": 10,
   "metadata": {},
   "outputs": [
    {
     "name": "stdout",
     "output_type": "stream",
     "text": [
      "networkx Graph loaded successfully with length 1187202\n"
     ]
    }
   ],
   "source": [
    "G = rdflib_to_networkx_graph(rg)\n",
    "print(\"networkx Graph loaded successfully with length {}\".format(len(G)))"
   ]
  },
  {
   "cell_type": "code",
   "execution_count": 16,
   "metadata": {},
   "outputs": [],
   "source": [
    "ent_a = URIRef(\"http://collections.vam.ac.uk/item/O1389838\")\n",
    "ent_b = URIRef(\"https://collection.sciencemuseumgroup.org.uk/objects/co8602393\")"
   ]
  },
  {
   "cell_type": "code",
   "execution_count": 14,
   "metadata": {},
   "outputs": [],
   "source": [
    "all_sps = all_shortest_paths(G, ent_a, ent_b)\n",
    "path_graphs = [nx.path_graph(sp) for sp in all_sps]"
   ]
  },
  {
   "cell_type": "code",
   "execution_count": 22,
   "metadata": {},
   "outputs": [],
   "source": [
    "# choose a path\n",
    "path = path_graphs[0]\n"
   ]
  },
  {
   "cell_type": "code",
   "execution_count": 64,
   "metadata": {},
   "outputs": [
    {
     "data": {
      "text/plain": [
       "[{'http://collections.vam.ac.uk/item/O1389838': {'next-best-step': 'https://api.vam.ac.uk/v2/objects/search?id_technique=AAT53271',\n",
       "   'neighbours': ['https://api.vam.ac.uk/v2/objects/search?id_technique=AAT131119',\n",
       "    'https://api.vam.ac.uk/v2/objects/search?id_person=A27048',\n",
       "    'https://api.vam.ac.uk/v2/objects/search?id_technique=AAT53319']}},\n",
       " {'https://api.vam.ac.uk/v2/objects/search?id_technique=AAT53271': {'next-best-step': 'http://collections.vam.ac.uk/item/O1519245',\n",
       "   'neighbours': ['http://collections.vam.ac.uk/item/O1286466',\n",
       "    'http://collections.vam.ac.uk/item/O691668',\n",
       "    'http://collections.vam.ac.uk/item/O854598']}},\n",
       " {'http://collections.vam.ac.uk/item/O1519245': {'next-best-step': 'made in england',\n",
       "   'neighbours': ['https://api.vam.ac.uk/v2/objects/search?id_organisation=AUTH355220',\n",
       "    'https://api.vam.ac.uk/v2/objects/search?id_organisation=AUTH355221',\n",
       "    'https://api.vam.ac.uk/v2/objects/search?id_technique=AAT53271']}},\n",
       " {'made in england': {'next-best-step': 'https://collection.sciencemuseumgroup.org.uk/objects/co8010891',\n",
       "   'neighbours': ['http://collections.vam.ac.uk/item/O1519245',\n",
       "    'https://collection.sciencemuseumgroup.org.uk/objects/co8010326']}},\n",
       " {'https://collection.sciencemuseumgroup.org.uk/objects/co8010891': {'next-best-step': 'https://collection.sciencemuseumgroup.org.uk/people/cp21665',\n",
       "   'neighbours': []}},\n",
       " {'https://collection.sciencemuseumgroup.org.uk/people/cp21665': {'next-best-step': 'https://collection.sciencemuseumgroup.org.uk/objects/co8602393',\n",
       "   'neighbours': ['https://collection.sciencemuseumgroup.org.uk/objects/co8188760',\n",
       "    'https://collection.sciencemuseumgroup.org.uk/objects/co128131',\n",
       "    'https://collection.sciencemuseumgroup.org.uk/objects/co8374160']}},\n",
       " {'https://collection.sciencemuseumgroup.org.uk/objects/co8602393': {'next-best-step': 'END',\n",
       "   'neighbours': []}}]"
      ]
     },
     "execution_count": 64,
     "metadata": {},
     "output_type": "execute_result"
    }
   ],
   "source": [
    "# list of dicts, where key = each step of the best path\n",
    "# within each dict is next-best-step, and 3 (random) connected 'neighbour' nodes\n",
    "path_edges = [i for i in path.edges()]\n",
    "\n",
    "path_json = []\n",
    "for edge in path_edges:\n",
    "    path_json.append({\n",
    "        edge[0][:]: {\n",
    "        'next-best-step': edge[1][:],\n",
    "        'neighbours': get_neighbours(G, edge),\n",
    "        }}\n",
    "    )\n",
    "path_json.append({\n",
    "    path_edges[-1][1][:]: {\n",
    "        'next-best-step': 'END',\n",
    "        'neighbours': [],\n",
    "    }\n",
    "})\n",
    "path_json"
   ]
  },
  {
   "cell_type": "code",
   "execution_count": 58,
   "metadata": {},
   "outputs": [
    {
     "data": {
      "text/plain": [
       "'https://collection.sciencemuseumgroup.org.uk/objects/co8602393'"
      ]
     },
     "execution_count": 58,
     "metadata": {},
     "output_type": "execute_result"
    }
   ],
   "source": [
    "path_edges[-1][1][:]"
   ]
  },
  {
   "cell_type": "code",
   "execution_count": 52,
   "metadata": {},
   "outputs": [
    {
     "data": {
      "text/plain": [
       "dict_keys(['http://collections.vam.ac.uk/item/O1389838', 'https://api.vam.ac.uk/v2/objects/search?id_technique=AAT53271', 'http://collections.vam.ac.uk/item/O1519245', 'made in england', 'https://collection.sciencemuseumgroup.org.uk/objects/co8010891', 'https://collection.sciencemuseumgroup.org.uk/people/cp21665'])"
      ]
     },
     "execution_count": 52,
     "metadata": {},
     "output_type": "execute_result"
    }
   ],
   "source": [
    "path_json.keys()"
   ]
  }
 ],
 "metadata": {
  "interpreter": {
   "hash": "b334508d208b483b273471960992ad0a85e9509e21e432faf161a8a75e53e20c"
  },
  "kernelspec": {
   "display_name": "Python 3.10.0 64-bit ('heritage-connector': pyenv)",
   "language": "python",
   "name": "python3"
  },
  "language_info": {
   "codemirror_mode": {
    "name": "ipython",
    "version": 3
   },
   "file_extension": ".py",
   "mimetype": "text/x-python",
   "name": "python",
   "nbconvert_exporter": "python",
   "pygments_lexer": "ipython3",
   "version": "3.10.0"
  },
  "orig_nbformat": 4
 },
 "nbformat": 4,
 "nbformat_minor": 2
}
