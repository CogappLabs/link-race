{
 "cells": [
  {
   "cell_type": "markdown",
   "metadata": {},
   "source": [
    "# Generating the link-race dataset\n",
    "\n",
    "For a given point A & B, find the possible paths, and for each, create a data structure containing the valid path, and options for each node along the way."
   ]
  },
  {
   "cell_type": "markdown",
   "metadata": {},
   "source": [
    "## Setup"
   ]
  },
  {
   "cell_type": "code",
   "execution_count": 1,
   "metadata": {},
   "outputs": [],
   "source": [
    "from rdflib import Graph\n",
    "from rdflib.extras.external_graph_libs import rdflib_to_networkx_graph\n",
    "import networkx as nx\n",
    "from networkx.algorithms.shortest_paths.generic import all_shortest_paths\n",
    "from rdflib import URIRef\n",
    "import json\n",
    "import random\n",
    "from datetime import datetime\n",
    "import requests"
   ]
  },
  {
   "cell_type": "code",
   "execution_count": 2,
   "metadata": {},
   "outputs": [],
   "source": [
    "def neighbours(G, edge, n=3):\n",
    "    \"\"\"return the first n neighbours of a given node\n",
    "    \"\"\"\n",
    "    try:\n",
    "        return [i[:] for i in nx.neighbors(G, edge[0]) if (i[:] != edge[1][:]) and (i[:].startswith('http'))][:n]\n",
    "    except TypeError:\n",
    "        return []"
   ]
  },
  {
   "cell_type": "code",
   "execution_count": 3,
   "metadata": {},
   "outputs": [],
   "source": [
    "def similarity(a, b):\n",
    "    url = 'https://d0rgkq.deta.dev/distance'\n",
    "    data = {\n",
    "        'entity_a': a,\n",
    "        'entity_b': b,\n",
    "    }\n",
    "    return requests.post(url, json=data).json()\n",
    "\n",
    "# similarity(\n",
    "#     \"http://collections.vam.ac.uk/item/O1389838\",\n",
    "#     \"https://collection.sciencemuseumgroup.org.uk/objects/co102121\"\n",
    "# )"
   ]
  },
  {
   "cell_type": "code",
   "execution_count": 4,
   "metadata": {},
   "outputs": [],
   "source": [
    "def get_labels(entities):\n",
    "    url = \"https://d0rgkq.deta.dev/labels\"\n",
    "    payload = json.dumps({\n",
    "      \"uris\": entities\n",
    "    })\n",
    "    headers = {\n",
    "      'Content-Type': 'application/json'\n",
    "    }\n",
    "\n",
    "    return requests.post(url, headers=headers, data=payload).json()\n",
    "\n",
    "# get_labels(['http://collections.vam.ac.uk/item/O1254669'])"
   ]
  },
  {
   "cell_type": "code",
   "execution_count": 5,
   "metadata": {},
   "outputs": [
    {
     "name": "stdout",
     "output_type": "stream",
     "text": [
      "rdflib Graph loaded successfully with 2030542 triples\n"
     ]
    }
   ],
   "source": [
    "path = \"./hc_dump_latest-filtered-20211117-114506.nt\"\n",
    "rg = Graph().parse(path, format='nt')\n",
    "print(\"rdflib Graph loaded successfully with {} triples\".format(len(rg)))"
   ]
  },
  {
   "cell_type": "code",
   "execution_count": 6,
   "metadata": {},
   "outputs": [
    {
     "name": "stdout",
     "output_type": "stream",
     "text": [
      "networkx Graph loaded successfully with length 758632\n"
     ]
    }
   ],
   "source": [
    "G = rdflib_to_networkx_graph(rg)\n",
    "print(\"networkx Graph loaded successfully with length {}\".format(len(G)))"
   ]
  },
  {
   "cell_type": "code",
   "execution_count": 7,
   "metadata": {},
   "outputs": [],
   "source": [
    "nodes_vam = []\n",
    "nodes_sci = []\n",
    "for i in nx.nodes(G):\n",
    "    if 'collections.vam.ac.uk' in str(i):\n",
    "        nodes_vam.append(i)\n",
    "    elif 'collection.sciencemuseumgroup' in str(i):\n",
    "        nodes_sci.append(i)"
   ]
  },
  {
   "cell_type": "markdown",
   "metadata": {},
   "source": [
    "## Path finding"
   ]
  },
  {
   "cell_type": "code",
   "execution_count": 8,
   "metadata": {},
   "outputs": [
    {
     "name": "stdout",
     "output_type": "stream",
     "text": [
      "https://collection.sciencemuseumgroup.org.uk/objects/co91945 -> https://collection.sciencemuseumgroup.org.uk/objects/co29819\n"
     ]
    }
   ],
   "source": [
    "# defining point A & B\n",
    "# A = random.choice(nodes_vam)\n",
    "# B = random.choice(nodes_sci)\n",
    "\n",
    "A = 'https://collection.sciencemuseumgroup.org.uk/objects/co91945'\n",
    "B = 'https://collection.sciencemuseumgroup.org.uk/objects/co29819'\n",
    "\n",
    "print(f'{A} -> {B}')\n",
    "\n",
    "ent_a = URIRef(A)\n",
    "ent_b = URIRef(B)"
   ]
  },
  {
   "cell_type": "code",
   "execution_count": 9,
   "metadata": {},
   "outputs": [
    {
     "name": "stdout",
     "output_type": "stream",
     "text": [
      "Found 16 paths\n"
     ]
    }
   ],
   "source": [
    "# calculating the paths\n",
    "all_sps = all_shortest_paths(G, ent_a, ent_b)\n",
    "path_graphs = [nx.path_graph(sp) for sp in all_sps]\n",
    "\n",
    "print(f'Found {len(path_graphs)} paths')"
   ]
  },
  {
   "cell_type": "code",
   "execution_count": 10,
   "metadata": {},
   "outputs": [],
   "source": [
    "# for top 20 found path\n",
    "# list of dicts, where key = each step of the path\n",
    "# within each dict is nextBestStep, and 3 (random) connected 'neighbour' nodes\n",
    "paths_json = []\n",
    "for ix, path in enumerate(path_graphs[:20]): \n",
    "    path_edges = [i for i in path.edges()]\n",
    "\n",
    "    path_json = []\n",
    "    for edge in path_edges:\n",
    "        path_json.append({\n",
    "            edge[0][:]: {\n",
    "            'nextBestStep': edge[1][:],\n",
    "            'neighbours': neighbours(G, edge),\n",
    "            }}\n",
    "        )\n",
    "    path_json.append({\n",
    "        path_edges[-1][1][:]: {\n",
    "            'nextBestStep': 'END',\n",
    "            'neighbours': [],\n",
    "        }\n",
    "    })\n",
    "    paths_json.append(path_json)"
   ]
  },
  {
   "cell_type": "code",
   "execution_count": 11,
   "metadata": {},
   "outputs": [
    {
     "data": {
      "text/plain": [
       "[[{'https://collection.sciencemuseumgroup.org.uk/objects/co91945': {'nextBestStep': 'http://www.wikidata.org/entity/Q84',\n",
       "    'neighbours': []}},\n",
       "  {'http://www.wikidata.org/entity/Q84': {'nextBestStep': 'https://collection.sciencemuseumgroup.org.uk/objects/co430567',\n",
       "    'neighbours': ['http://collections.vam.ac.uk/item/O1148335',\n",
       "     'https://collection.sciencemuseumgroup.org.uk/objects/co135595',\n",
       "     'https://collection.sciencemuseumgroup.org.uk/objects/co421653']}},\n",
       "  {'https://collection.sciencemuseumgroup.org.uk/objects/co430567': {'nextBestStep': 'https://collection.sciencemuseumgroup.org.uk/people/ap12850',\n",
       "    'neighbours': ['http://www.wikidata.org/entity/Q84',\n",
       "     'https://collection.sciencemuseumgroup.org.uk/people/cp31792']}},\n",
       "  {'https://collection.sciencemuseumgroup.org.uk/people/ap12850': {'nextBestStep': 'https://collection.sciencemuseumgroup.org.uk/objects/co29819',\n",
       "    'neighbours': ['https://collection.sciencemuseumgroup.org.uk/objects/co30607',\n",
       "     'https://collection.sciencemuseumgroup.org.uk/documents/aa110121793',\n",
       "     'https://collection.sciencemuseumgroup.org.uk/people/ap12415']}},\n",
       "  {'https://collection.sciencemuseumgroup.org.uk/objects/co29819': {'nextBestStep': 'END',\n",
       "    'neighbours': []}}],\n",
       " [{'https://collection.sciencemuseumgroup.org.uk/objects/co91945': {'nextBestStep': 'http://www.wikidata.org/entity/Q84',\n",
       "    'neighbours': []}},\n",
       "  {'http://www.wikidata.org/entity/Q84': {'nextBestStep': 'https://collection.sciencemuseumgroup.org.uk/people/ap27813',\n",
       "    'neighbours': ['http://collections.vam.ac.uk/item/O1148335',\n",
       "     'https://collection.sciencemuseumgroup.org.uk/objects/co135595',\n",
       "     'https://collection.sciencemuseumgroup.org.uk/objects/co421653']}},\n",
       "  {'https://collection.sciencemuseumgroup.org.uk/people/ap27813': {'nextBestStep': 'https://collection.sciencemuseumgroup.org.uk/people/ap12850',\n",
       "    'neighbours': ['http://www.wikidata.org/entity/Q84',\n",
       "     'https://collection.sciencemuseumgroup.org.uk/people/ap27810',\n",
       "     'http://www.wikidata.org/entity/Q720612']}},\n",
       "  {'https://collection.sciencemuseumgroup.org.uk/people/ap12850': {'nextBestStep': 'https://collection.sciencemuseumgroup.org.uk/objects/co29819',\n",
       "    'neighbours': ['https://collection.sciencemuseumgroup.org.uk/objects/co30607',\n",
       "     'https://collection.sciencemuseumgroup.org.uk/documents/aa110121793',\n",
       "     'https://collection.sciencemuseumgroup.org.uk/people/ap12415']}},\n",
       "  {'https://collection.sciencemuseumgroup.org.uk/objects/co29819': {'nextBestStep': 'END',\n",
       "    'neighbours': []}}],\n",
       " [{'https://collection.sciencemuseumgroup.org.uk/objects/co91945': {'nextBestStep': 'http://www.wikidata.org/entity/Q84',\n",
       "    'neighbours': []}},\n",
       "  {'http://www.wikidata.org/entity/Q84': {'nextBestStep': 'https://collection.sciencemuseumgroup.org.uk/objects/co8665506',\n",
       "    'neighbours': ['http://collections.vam.ac.uk/item/O1148335',\n",
       "     'https://collection.sciencemuseumgroup.org.uk/objects/co135595',\n",
       "     'https://collection.sciencemuseumgroup.org.uk/objects/co421653']}},\n",
       "  {'https://collection.sciencemuseumgroup.org.uk/objects/co8665506': {'nextBestStep': 'https://collection.sciencemuseumgroup.org.uk/people/ap12850',\n",
       "    'neighbours': ['http://www.wikidata.org/entity/Q2256',\n",
       "     'http://www.wikidata.org/entity/Q84',\n",
       "     'http://www.wikidata.org/entity/Q7114695']}},\n",
       "  {'https://collection.sciencemuseumgroup.org.uk/people/ap12850': {'nextBestStep': 'https://collection.sciencemuseumgroup.org.uk/objects/co29819',\n",
       "    'neighbours': ['https://collection.sciencemuseumgroup.org.uk/objects/co30607',\n",
       "     'https://collection.sciencemuseumgroup.org.uk/documents/aa110121793',\n",
       "     'https://collection.sciencemuseumgroup.org.uk/people/ap12415']}},\n",
       "  {'https://collection.sciencemuseumgroup.org.uk/objects/co29819': {'nextBestStep': 'END',\n",
       "    'neighbours': []}}],\n",
       " [{'https://collection.sciencemuseumgroup.org.uk/objects/co91945': {'nextBestStep': 'http://www.wikidata.org/entity/Q84',\n",
       "    'neighbours': []}},\n",
       "  {'http://www.wikidata.org/entity/Q84': {'nextBestStep': 'https://collection.sciencemuseumgroup.org.uk/people/ap27811',\n",
       "    'neighbours': ['http://collections.vam.ac.uk/item/O1148335',\n",
       "     'https://collection.sciencemuseumgroup.org.uk/objects/co135595',\n",
       "     'https://collection.sciencemuseumgroup.org.uk/objects/co421653']}},\n",
       "  {'https://collection.sciencemuseumgroup.org.uk/people/ap27811': {'nextBestStep': 'https://collection.sciencemuseumgroup.org.uk/people/ap12850',\n",
       "    'neighbours': ['http://www.wikidata.org/entity/Q1165625',\n",
       "     'http://www.wikidata.org/entity/Q84',\n",
       "     'http://www.wikidata.org/entity/Q5494955']}},\n",
       "  {'https://collection.sciencemuseumgroup.org.uk/people/ap12850': {'nextBestStep': 'https://collection.sciencemuseumgroup.org.uk/objects/co29819',\n",
       "    'neighbours': ['https://collection.sciencemuseumgroup.org.uk/objects/co30607',\n",
       "     'https://collection.sciencemuseumgroup.org.uk/documents/aa110121793',\n",
       "     'https://collection.sciencemuseumgroup.org.uk/people/ap12415']}},\n",
       "  {'https://collection.sciencemuseumgroup.org.uk/objects/co29819': {'nextBestStep': 'END',\n",
       "    'neighbours': []}}],\n",
       " [{'https://collection.sciencemuseumgroup.org.uk/objects/co91945': {'nextBestStep': 'http://www.wikidata.org/entity/Q84',\n",
       "    'neighbours': []}},\n",
       "  {'http://www.wikidata.org/entity/Q84': {'nextBestStep': 'https://collection.sciencemuseumgroup.org.uk/people/ap25206',\n",
       "    'neighbours': ['http://collections.vam.ac.uk/item/O1148335',\n",
       "     'https://collection.sciencemuseumgroup.org.uk/objects/co135595',\n",
       "     'https://collection.sciencemuseumgroup.org.uk/objects/co421653']}},\n",
       "  {'https://collection.sciencemuseumgroup.org.uk/people/ap25206': {'nextBestStep': 'https://collection.sciencemuseumgroup.org.uk/people/ap12850',\n",
       "    'neighbours': ['https://collection.sciencemuseumgroup.org.uk/objects/co55146',\n",
       "     'http://www.wikidata.org/entity/Q4581944',\n",
       "     'https://collection.sciencemuseumgroup.org.uk/objects/co55185']}},\n",
       "  {'https://collection.sciencemuseumgroup.org.uk/people/ap12850': {'nextBestStep': 'https://collection.sciencemuseumgroup.org.uk/objects/co29819',\n",
       "    'neighbours': ['https://collection.sciencemuseumgroup.org.uk/objects/co30607',\n",
       "     'https://collection.sciencemuseumgroup.org.uk/documents/aa110121793',\n",
       "     'https://collection.sciencemuseumgroup.org.uk/people/ap12415']}},\n",
       "  {'https://collection.sciencemuseumgroup.org.uk/objects/co29819': {'nextBestStep': 'END',\n",
       "    'neighbours': []}}],\n",
       " [{'https://collection.sciencemuseumgroup.org.uk/objects/co91945': {'nextBestStep': 'http://www.wikidata.org/entity/Q84',\n",
       "    'neighbours': []}},\n",
       "  {'http://www.wikidata.org/entity/Q84': {'nextBestStep': 'https://collection.sciencemuseumgroup.org.uk/documents/aa110020213',\n",
       "    'neighbours': ['http://collections.vam.ac.uk/item/O1148335',\n",
       "     'https://collection.sciencemuseumgroup.org.uk/objects/co135595',\n",
       "     'https://collection.sciencemuseumgroup.org.uk/objects/co421653']}},\n",
       "  {'https://collection.sciencemuseumgroup.org.uk/documents/aa110020213': {'nextBestStep': 'https://collection.sciencemuseumgroup.org.uk/people/ap12850',\n",
       "    'neighbours': ['http://www.wikidata.org/entity/Q84']}},\n",
       "  {'https://collection.sciencemuseumgroup.org.uk/people/ap12850': {'nextBestStep': 'https://collection.sciencemuseumgroup.org.uk/objects/co29819',\n",
       "    'neighbours': ['https://collection.sciencemuseumgroup.org.uk/objects/co30607',\n",
       "     'https://collection.sciencemuseumgroup.org.uk/documents/aa110121793',\n",
       "     'https://collection.sciencemuseumgroup.org.uk/people/ap12415']}},\n",
       "  {'https://collection.sciencemuseumgroup.org.uk/objects/co29819': {'nextBestStep': 'END',\n",
       "    'neighbours': []}}],\n",
       " [{'https://collection.sciencemuseumgroup.org.uk/objects/co91945': {'nextBestStep': 'http://www.wikidata.org/entity/Q84',\n",
       "    'neighbours': []}},\n",
       "  {'http://www.wikidata.org/entity/Q84': {'nextBestStep': 'https://collection.sciencemuseumgroup.org.uk/objects/co29251',\n",
       "    'neighbours': ['http://collections.vam.ac.uk/item/O1148335',\n",
       "     'https://collection.sciencemuseumgroup.org.uk/objects/co135595',\n",
       "     'https://collection.sciencemuseumgroup.org.uk/objects/co421653']}},\n",
       "  {'https://collection.sciencemuseumgroup.org.uk/objects/co29251': {'nextBestStep': 'https://collection.sciencemuseumgroup.org.uk/people/ap12850',\n",
       "    'neighbours': ['https://collection.sciencemuseumgroup.org.uk/people/cp37476',\n",
       "     'http://www.wikidata.org/entity/Q84',\n",
       "     'http://www.wikidata.org/entity/Q26172']}},\n",
       "  {'https://collection.sciencemuseumgroup.org.uk/people/ap12850': {'nextBestStep': 'https://collection.sciencemuseumgroup.org.uk/objects/co29819',\n",
       "    'neighbours': ['https://collection.sciencemuseumgroup.org.uk/objects/co30607',\n",
       "     'https://collection.sciencemuseumgroup.org.uk/documents/aa110121793',\n",
       "     'https://collection.sciencemuseumgroup.org.uk/people/ap12415']}},\n",
       "  {'https://collection.sciencemuseumgroup.org.uk/objects/co29819': {'nextBestStep': 'END',\n",
       "    'neighbours': []}}],\n",
       " [{'https://collection.sciencemuseumgroup.org.uk/objects/co91945': {'nextBestStep': 'http://www.wikidata.org/entity/Q84',\n",
       "    'neighbours': []}},\n",
       "  {'http://www.wikidata.org/entity/Q84': {'nextBestStep': 'https://collection.sciencemuseumgroup.org.uk/people/ap7847',\n",
       "    'neighbours': ['http://collections.vam.ac.uk/item/O1148335',\n",
       "     'https://collection.sciencemuseumgroup.org.uk/objects/co135595',\n",
       "     'https://collection.sciencemuseumgroup.org.uk/objects/co421653']}},\n",
       "  {'https://collection.sciencemuseumgroup.org.uk/people/ap7847': {'nextBestStep': 'https://collection.sciencemuseumgroup.org.uk/people/ap12850',\n",
       "    'neighbours': ['https://collection.sciencemuseumgroup.org.uk/objects/co8407702',\n",
       "     'http://www.wikidata.org/entity/Q5586936',\n",
       "     'https://collection.sciencemuseumgroup.org.uk/people/cp113279']}},\n",
       "  {'https://collection.sciencemuseumgroup.org.uk/people/ap12850': {'nextBestStep': 'https://collection.sciencemuseumgroup.org.uk/objects/co29819',\n",
       "    'neighbours': ['https://collection.sciencemuseumgroup.org.uk/objects/co30607',\n",
       "     'https://collection.sciencemuseumgroup.org.uk/documents/aa110121793',\n",
       "     'https://collection.sciencemuseumgroup.org.uk/people/ap12415']}},\n",
       "  {'https://collection.sciencemuseumgroup.org.uk/objects/co29819': {'nextBestStep': 'END',\n",
       "    'neighbours': []}}],\n",
       " [{'https://collection.sciencemuseumgroup.org.uk/objects/co91945': {'nextBestStep': 'http://www.wikidata.org/entity/Q84',\n",
       "    'neighbours': []}},\n",
       "  {'http://www.wikidata.org/entity/Q84': {'nextBestStep': 'https://collection.sciencemuseumgroup.org.uk/objects/co29107',\n",
       "    'neighbours': ['http://collections.vam.ac.uk/item/O1148335',\n",
       "     'https://collection.sciencemuseumgroup.org.uk/objects/co135595',\n",
       "     'https://collection.sciencemuseumgroup.org.uk/objects/co421653']}},\n",
       "  {'https://collection.sciencemuseumgroup.org.uk/objects/co29107': {'nextBestStep': 'https://collection.sciencemuseumgroup.org.uk/people/ap12850',\n",
       "    'neighbours': ['http://www.wikidata.org/entity/Q84']}},\n",
       "  {'https://collection.sciencemuseumgroup.org.uk/people/ap12850': {'nextBestStep': 'https://collection.sciencemuseumgroup.org.uk/objects/co29819',\n",
       "    'neighbours': ['https://collection.sciencemuseumgroup.org.uk/objects/co30607',\n",
       "     'https://collection.sciencemuseumgroup.org.uk/documents/aa110121793',\n",
       "     'https://collection.sciencemuseumgroup.org.uk/people/ap12415']}},\n",
       "  {'https://collection.sciencemuseumgroup.org.uk/objects/co29819': {'nextBestStep': 'END',\n",
       "    'neighbours': []}}],\n",
       " [{'https://collection.sciencemuseumgroup.org.uk/objects/co91945': {'nextBestStep': 'http://www.wikidata.org/entity/Q84',\n",
       "    'neighbours': []}},\n",
       "  {'http://www.wikidata.org/entity/Q84': {'nextBestStep': 'https://blog.sciencemuseum.org.uk/v-2-the-rocket-that-launched-the-space-age/',\n",
       "    'neighbours': ['http://collections.vam.ac.uk/item/O1148335',\n",
       "     'https://collection.sciencemuseumgroup.org.uk/objects/co135595',\n",
       "     'https://collection.sciencemuseumgroup.org.uk/objects/co421653']}},\n",
       "  {'https://blog.sciencemuseum.org.uk/v-2-the-rocket-that-launched-the-space-age/': {'nextBestStep': 'https://collection.sciencemuseumgroup.org.uk/people/ap12850',\n",
       "    'neighbours': ['http://www.wikidata.org/entity/Q104859',\n",
       "     'http://www.wikidata.org/entity/Q758729',\n",
       "     'http://www.wikidata.org/entity/Q214820']}},\n",
       "  {'https://collection.sciencemuseumgroup.org.uk/people/ap12850': {'nextBestStep': 'https://collection.sciencemuseumgroup.org.uk/objects/co29819',\n",
       "    'neighbours': ['https://collection.sciencemuseumgroup.org.uk/objects/co30607',\n",
       "     'https://collection.sciencemuseumgroup.org.uk/documents/aa110121793',\n",
       "     'https://collection.sciencemuseumgroup.org.uk/people/ap12415']}},\n",
       "  {'https://collection.sciencemuseumgroup.org.uk/objects/co29819': {'nextBestStep': 'END',\n",
       "    'neighbours': []}}],\n",
       " [{'https://collection.sciencemuseumgroup.org.uk/objects/co91945': {'nextBestStep': 'http://www.wikidata.org/entity/Q84',\n",
       "    'neighbours': []}},\n",
       "  {'http://www.wikidata.org/entity/Q84': {'nextBestStep': 'https://collection.sciencemuseumgroup.org.uk/people/cp115538',\n",
       "    'neighbours': ['http://collections.vam.ac.uk/item/O1148335',\n",
       "     'https://collection.sciencemuseumgroup.org.uk/objects/co135595',\n",
       "     'https://collection.sciencemuseumgroup.org.uk/objects/co421653']}},\n",
       "  {'https://collection.sciencemuseumgroup.org.uk/people/cp115538': {'nextBestStep': 'https://collection.sciencemuseumgroup.org.uk/people/ap12850',\n",
       "    'neighbours': ['http://www.wikidata.org/entity/Q25',\n",
       "     'http://www.wikidata.org/entity/Q4968916',\n",
       "     'https://collection.sciencemuseumgroup.org.uk/objects/co141543']}},\n",
       "  {'https://collection.sciencemuseumgroup.org.uk/people/ap12850': {'nextBestStep': 'https://collection.sciencemuseumgroup.org.uk/objects/co29819',\n",
       "    'neighbours': ['https://collection.sciencemuseumgroup.org.uk/objects/co30607',\n",
       "     'https://collection.sciencemuseumgroup.org.uk/documents/aa110121793',\n",
       "     'https://collection.sciencemuseumgroup.org.uk/people/ap12415']}},\n",
       "  {'https://collection.sciencemuseumgroup.org.uk/objects/co29819': {'nextBestStep': 'END',\n",
       "    'neighbours': []}}],\n",
       " [{'https://collection.sciencemuseumgroup.org.uk/objects/co91945': {'nextBestStep': 'http://www.wikidata.org/entity/Q84',\n",
       "    'neighbours': []}},\n",
       "  {'http://www.wikidata.org/entity/Q84': {'nextBestStep': 'https://collection.sciencemuseumgroup.org.uk/documents/aa110017832',\n",
       "    'neighbours': ['http://collections.vam.ac.uk/item/O1148335',\n",
       "     'https://collection.sciencemuseumgroup.org.uk/objects/co135595',\n",
       "     'https://collection.sciencemuseumgroup.org.uk/objects/co421653']}},\n",
       "  {'https://collection.sciencemuseumgroup.org.uk/documents/aa110017832': {'nextBestStep': 'https://collection.sciencemuseumgroup.org.uk/people/ap12850',\n",
       "    'neighbours': ['https://collection.sciencemuseumgroup.org.uk/people/cp26280',\n",
       "     'https://collection.sciencemuseumgroup.org.uk/people/ap13789',\n",
       "     'http://www.wikidata.org/entity/Q84']}},\n",
       "  {'https://collection.sciencemuseumgroup.org.uk/people/ap12850': {'nextBestStep': 'https://collection.sciencemuseumgroup.org.uk/objects/co29819',\n",
       "    'neighbours': ['https://collection.sciencemuseumgroup.org.uk/objects/co30607',\n",
       "     'https://collection.sciencemuseumgroup.org.uk/documents/aa110121793',\n",
       "     'https://collection.sciencemuseumgroup.org.uk/people/ap12415']}},\n",
       "  {'https://collection.sciencemuseumgroup.org.uk/objects/co29819': {'nextBestStep': 'END',\n",
       "    'neighbours': []}}],\n",
       " [{'https://collection.sciencemuseumgroup.org.uk/objects/co91945': {'nextBestStep': 'http://www.wikidata.org/entity/Q84',\n",
       "    'neighbours': []}},\n",
       "  {'http://www.wikidata.org/entity/Q84': {'nextBestStep': 'https://collection.sciencemuseumgroup.org.uk/objects/co8341469',\n",
       "    'neighbours': ['http://collections.vam.ac.uk/item/O1148335',\n",
       "     'https://collection.sciencemuseumgroup.org.uk/objects/co135595',\n",
       "     'https://collection.sciencemuseumgroup.org.uk/objects/co421653']}},\n",
       "  {'https://collection.sciencemuseumgroup.org.uk/objects/co8341469': {'nextBestStep': 'https://collection.sciencemuseumgroup.org.uk/people/ap12850',\n",
       "    'neighbours': ['https://collection.sciencemuseumgroup.org.uk/people/cp26280',\n",
       "     'http://www.wikidata.org/entity/Q84',\n",
       "     'https://collection.sciencemuseumgroup.org.uk/people/ap13789']}},\n",
       "  {'https://collection.sciencemuseumgroup.org.uk/people/ap12850': {'nextBestStep': 'https://collection.sciencemuseumgroup.org.uk/objects/co29819',\n",
       "    'neighbours': ['https://collection.sciencemuseumgroup.org.uk/objects/co30607',\n",
       "     'https://collection.sciencemuseumgroup.org.uk/documents/aa110121793',\n",
       "     'https://collection.sciencemuseumgroup.org.uk/people/ap12415']}},\n",
       "  {'https://collection.sciencemuseumgroup.org.uk/objects/co29819': {'nextBestStep': 'END',\n",
       "    'neighbours': []}}],\n",
       " [{'https://collection.sciencemuseumgroup.org.uk/objects/co91945': {'nextBestStep': 'http://www.wikidata.org/entity/Q84',\n",
       "    'neighbours': []}},\n",
       "  {'http://www.wikidata.org/entity/Q84': {'nextBestStep': 'https://collection.sciencemuseumgroup.org.uk/people/ap27812',\n",
       "    'neighbours': ['http://collections.vam.ac.uk/item/O1148335',\n",
       "     'https://collection.sciencemuseumgroup.org.uk/objects/co135595',\n",
       "     'https://collection.sciencemuseumgroup.org.uk/objects/co421653']}},\n",
       "  {'https://collection.sciencemuseumgroup.org.uk/people/ap27812': {'nextBestStep': 'https://collection.sciencemuseumgroup.org.uk/people/ap12850',\n",
       "    'neighbours': ['http://www.wikidata.org/entity/Q1165625',\n",
       "     'https://collection.sciencemuseumgroup.org.uk/people/cp45845',\n",
       "     'https://collection.sciencemuseumgroup.org.uk/people/cp17553']}},\n",
       "  {'https://collection.sciencemuseumgroup.org.uk/people/ap12850': {'nextBestStep': 'https://collection.sciencemuseumgroup.org.uk/objects/co29819',\n",
       "    'neighbours': ['https://collection.sciencemuseumgroup.org.uk/objects/co30607',\n",
       "     'https://collection.sciencemuseumgroup.org.uk/documents/aa110121793',\n",
       "     'https://collection.sciencemuseumgroup.org.uk/people/ap12415']}},\n",
       "  {'https://collection.sciencemuseumgroup.org.uk/objects/co29819': {'nextBestStep': 'END',\n",
       "    'neighbours': []}}],\n",
       " [{'https://collection.sciencemuseumgroup.org.uk/objects/co91945': {'nextBestStep': 'http://www.wikidata.org/entity/Q84',\n",
       "    'neighbours': []}},\n",
       "  {'http://www.wikidata.org/entity/Q84': {'nextBestStep': 'https://collection.sciencemuseumgroup.org.uk/people/cp18482',\n",
       "    'neighbours': ['http://collections.vam.ac.uk/item/O1148335',\n",
       "     'https://collection.sciencemuseumgroup.org.uk/objects/co135595',\n",
       "     'https://collection.sciencemuseumgroup.org.uk/objects/co421653']}},\n",
       "  {'https://collection.sciencemuseumgroup.org.uk/people/cp18482': {'nextBestStep': 'http://www.wikidata.org/entity/Q4688512',\n",
       "    'neighbours': ['https://collection.sciencemuseumgroup.org.uk/objects/co108873',\n",
       "     'https://collection.sciencemuseumgroup.org.uk/objects/co185555',\n",
       "     'https://collection.sciencemuseumgroup.org.uk/objects/co184967']}},\n",
       "  {'http://www.wikidata.org/entity/Q4688512': {'nextBestStep': 'https://collection.sciencemuseumgroup.org.uk/objects/co29819',\n",
       "    'neighbours': ['http://www.wikidata.org/entity/Q2519914',\n",
       "     'http://www.wikidata.org/entity/Q145',\n",
       "     'https://collection.sciencemuseumgroup.org.uk/people/cp18482']}},\n",
       "  {'https://collection.sciencemuseumgroup.org.uk/objects/co29819': {'nextBestStep': 'END',\n",
       "    'neighbours': []}}],\n",
       " [{'https://collection.sciencemuseumgroup.org.uk/objects/co91945': {'nextBestStep': 'http://www.wikidata.org/entity/Q84',\n",
       "    'neighbours': []}},\n",
       "  {'http://www.wikidata.org/entity/Q84': {'nextBestStep': 'http://www.wikidata.org/entity/Q145',\n",
       "    'neighbours': ['http://collections.vam.ac.uk/item/O1148335',\n",
       "     'https://collection.sciencemuseumgroup.org.uk/objects/co135595',\n",
       "     'https://collection.sciencemuseumgroup.org.uk/objects/co421653']}},\n",
       "  {'http://www.wikidata.org/entity/Q145': {'nextBestStep': 'http://www.wikidata.org/entity/Q4688512',\n",
       "    'neighbours': ['http://www.wikidata.org/entity/Q203995',\n",
       "     'https://api.vam.ac.uk/v2/objects/search?id_person=N9739',\n",
       "     'http://www.wikidata.org/entity/Q30596036']}},\n",
       "  {'http://www.wikidata.org/entity/Q4688512': {'nextBestStep': 'https://collection.sciencemuseumgroup.org.uk/objects/co29819',\n",
       "    'neighbours': ['http://www.wikidata.org/entity/Q2519914',\n",
       "     'http://www.wikidata.org/entity/Q145',\n",
       "     'https://collection.sciencemuseumgroup.org.uk/people/cp18482']}},\n",
       "  {'https://collection.sciencemuseumgroup.org.uk/objects/co29819': {'nextBestStep': 'END',\n",
       "    'neighbours': []}}]]"
      ]
     },
     "execution_count": 11,
     "metadata": {},
     "output_type": "execute_result"
    }
   ],
   "source": [
    "paths_json"
   ]
  },
  {
   "cell_type": "code",
   "execution_count": 12,
   "metadata": {},
   "outputs": [],
   "source": [
    "all_paths_nodes = []\n",
    "for path in paths_json:\n",
    "    for node in path:\n",
    "        node_label = list(node.keys())[0]\n",
    "        neighbours = node[node_label]['neighbours']\n",
    "        nextBestStep = node[node_label]['nextBestStep']\n",
    "        all_paths_nodes.append([node_label] + neighbours + [nextBestStep])\n",
    "all_paths_nodes = set([item for sublist in all_paths_nodes for item in sublist])\n",
    "all_paths_nodes = {i: {'caption': '', 'img': ''} for i in all_paths_nodes if i != 'END'}"
   ]
  },
  {
   "cell_type": "code",
   "execution_count": 13,
   "metadata": {},
   "outputs": [],
   "source": [
    "ts = datetime.now().strftime(\"%Y%m%d-%H%M%S\")\n",
    "\n",
    "with open(f'{ts}-paths.json', 'w') as paths_file:\n",
    "    json.dump(paths_json, paths_file, indent=2, sort_keys=True)\n",
    "\n",
    "with open(f'{ts}-pathnodes.json', 'w') as paths_file:\n",
    "    json.dump(all_paths_nodes, paths_file, indent=2, sort_keys=True)"
   ]
  }
 ],
 "metadata": {
  "interpreter": {
   "hash": "b334508d208b483b273471960992ad0a85e9509e21e432faf161a8a75e53e20c"
  },
  "kernelspec": {
   "display_name": "Python 3.10.0 64-bit ('heritage-connector': pyenv)",
   "language": "python",
   "name": "python3"
  },
  "language_info": {
   "codemirror_mode": {
    "name": "ipython",
    "version": 3
   },
   "file_extension": ".py",
   "mimetype": "text/x-python",
   "name": "python",
   "nbconvert_exporter": "python",
   "pygments_lexer": "ipython3",
   "version": "3.10.0"
  },
  "orig_nbformat": 4
 },
 "nbformat": 4,
 "nbformat_minor": 2
}
