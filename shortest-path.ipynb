{
 "cells": [
  {
   "cell_type": "markdown",
   "id": "sexual-station",
   "metadata": {},
   "source": [
    "# Filtered Shortest Path\n",
    "\n",
    "Finding all the shortest paths between two nodes, using a filtered set of properties.\n",
    "\n",
    "*outstanding questions:*\n",
    "- can we order/filter these paths by 'uniqueness'? (e.g. connecting people because they are humans isn't that interesting!)"
   ]
  },
  {
   "cell_type": "code",
   "execution_count": null,
   "id": "mighty-campus",
   "metadata": {},
   "outputs": [],
   "source": [
    "# Imports\n",
    "from rdflib import Graph\n",
    "from rdflib.extras.external_graph_libs import rdflib_to_networkx_graph\n",
    "import networkx as nx\n",
    "from networkx import Graph as NXGraph\n",
    "from networkx.algorithms.traversal.beamsearch import bfs_beam_edges\n",
    "from networkx.algorithms.shortest_paths.generic import all_shortest_paths\n",
    "from itertools import islice\n",
    "import statistics\n",
    "import collections\n",
    "from rdflib import URIRef, Literal\n",
    "import requests\n",
    "import json\n"
   ]
  },
  {
   "cell_type": "code",
   "execution_count": null,
   "id": "first-introduction",
   "metadata": {},
   "outputs": [],
   "source": [
    "url = \"https://d0rgkq.deta.dev/labels\"\n",
    "\n",
    "def get_labels(entities):\n",
    "    payload = json.dumps({\n",
    "      \"uris\": entities\n",
    "    })\n",
    "    headers = {\n",
    "      'Content-Type': 'application/json'\n",
    "    }\n",
    "\n",
    "    return requests.post(url, headers=headers, data=payload).json()\n"
   ]
  },
  {
   "cell_type": "code",
   "execution_count": null,
   "id": "alleged-heritage",
   "metadata": {},
   "outputs": [],
   "source": [
    "# RDF graph loading\n",
    "# This takes a while (10+ minutes). If you're working on a local machine it'll \n",
    "# be better to download the file from `path` below and give this notebook a \n",
    "# local path.\n",
    "path = \"https://heritageconnector.s3.eu-west-2.amazonaws.com/rdf/hc_dump_latest.nt\"\n",
    "rg = Graph()\n",
    "rg.parse(path, format='nt')\n",
    "print(\"rdflib Graph loaded successfully with {} triples\".format(len(rg)))"
   ]
  },
  {
   "cell_type": "code",
   "execution_count": null,
   "id": "chubby-suffering",
   "metadata": {},
   "outputs": [],
   "source": [
    "# Optionally get a subgraph\n",
    "# Here we filter out all the triples with skos:hasTopConcept \n",
    "# one of ({OBJECT, PERSON or ORGANISATION}) and sdo:isPartOf (describes collection\n",
    "# membership for objects)\n",
    "properties = [\n",
    "    \"hc:entityPERSON\",\n",
    "    \"hc:entityORG\",\n",
    "    \"hc:entityNORP\",\n",
    "    \"hc:entityFAC\",\n",
    "    \"hc:entityLOC\",\n",
    "    \"hc:entityOBJECT\",\n",
    "    \"hc:entityLANGUAGE\",\n",
    "    \"hc:entityDATE\",\n",
    "    \"sdo:birthDate\",\n",
    "    \"sdo:deathDate\",\n",
    "    \"sdo:foundingDate\",\n",
    "    \"sdo:dissolutionDate\",\n",
    "    \"foaf:maker\",\n",
    "    \"foaf:made\",\n",
    "    \"sdo:mentions\",\n",
    "    \"owl:sameAs\",\n",
    "    \"skos:related\",\n",
    "    \"skos:relatedMatch\",\n",
    "#     \"wdt:P101\", # field of work\n",
    "    \"wdt:P1056\",\n",
    "#     \"wdt:P106\", # occupation\n",
    "    \"wdt:P127\",\n",
    "    \"wdt:P135\",\n",
    "    \"wdt:P136\",\n",
    "    \"wdt:P137\",\n",
    "    \"wdt:P1535\",\n",
    "#     \"wdt:P17\", # country\n",
    "    \"wdt:P176\",\n",
    "    \"wdt:P18\",\n",
    "    \"wdt:P180\",\n",
    "    \"wdt:P20\",\n",
    "#     \"wdt:P21\", # sex or gender\n",
    "    \"wdt:P27\",\n",
    "    \"wdt:P279\",\n",
    "    \"wdt:P287\",\n",
    "    \"wdt:P31\",\n",
    "    \"wdt:P3342\",\n",
    "    \"wdt:P452\",\n",
    "#     \"wdt:P495\", # country of origin\n",
    "    \"wdt:P607\",\n",
    "    \"wdt:P61\",\n",
    "    \"wdt:P710\",\n",
    "    \"wdt:P749\",\n",
    "    \"wdt:P793\",\n",
    "    \"sdo:birthPlace\",\n",
    "    \"sdo:deathPlace\",\n",
    "]\n",
    "\n",
    "query = f\"\"\"\n",
    "PREFIX owl: <http://www.w3.org/2002/07/owl#>\n",
    "PREFIX skos: <http://www.w3.org/2004/02/skos/core#>\n",
    "PREFIX sdo: <https://schema.org/>\n",
    "PREFIX foaf: <http://xmlns.com/foaf/0.1/>\n",
    "PREFIX xsd: <http://www.w3.org/2001/XMLSchema#>\n",
    "PREFIX rdf: <http://www.w3.org/1999/02/22-rdf-syntax-ns#>\n",
    "PREFIX rdfs: <http://www.w3.org/2000/01/rdf-schema#>\n",
    "PREFIX smgp: <https://collection.sciencemuseumgroup.org.uk/people/>\n",
    "PREFIX smgo: <https://collection.sciencemuseumgroup.org.uk/objects/>\n",
    "PREFIX smgd: <https://collection.sciencemuseumgroup.org.uk/documents/>\n",
    "PREFIX wd: <http://www.wikidata.org/entity/>\n",
    "PREFIX wdt: <http://www.wikidata.org/prop/direct/>\n",
    "PREFIX hc: <http://www.heritageconnector.org/RDF/>\n",
    "CONSTRUCT {{ ?s ?p ?o }}\n",
    "WHERE {{ ?s ?p ?o. FILTER (?p in ({\", \".join(properties)})). }}\n",
    "\"\"\"\n",
    "print(query)\n",
    "\n",
    "subg = rg.query(query)\n"
   ]
  },
  {
   "cell_type": "code",
   "execution_count": null,
   "id": "invisible-atmosphere",
   "metadata": {},
   "outputs": [],
   "source": [
    "# Conversion of rdflib.Graph to networkx.Graph\n",
    "if 'subg' in locals():\n",
    "  print(\"Using subgraph generated in last cell\")\n",
    "  G = rdflib_to_networkx_graph(subg)\n",
    "else:\n",
    "  print(\"Using entire rdf graph\")\n",
    "  G = rdflib_to_networkx_graph(rg)\n",
    "print(\"networkx Graph loaded successfully with length {}\".format(len(G)))"
   ]
  },
  {
   "cell_type": "markdown",
   "id": "hungarian-cannon",
   "metadata": {},
   "source": [
    "## Shortest path"
   ]
  },
  {
   "cell_type": "code",
   "execution_count": null,
   "id": "linear-banner",
   "metadata": {},
   "outputs": [],
   "source": [
    "# Joy Division to Daphne Oram\n",
    "ent_a, ent_b = URIRef(\"http://www.wikidata.org/entity/Q172763\"), URIRef(\"https://collection.sciencemuseumgroup.org.uk/people/cp127589\")\n",
    "\n",
    "# Tim Burton to 'Vampire' aircraft\n",
    "# ent_a, ent_b = URIRef(\"http://www.wikidata.org/entity/Q56008\"), URIRef(\"https://collection.sciencemuseumgroup.org.uk/objects/co8223281\")"
   ]
  },
  {
   "cell_type": "code",
   "execution_count": null,
   "id": "threatened-public",
   "metadata": {},
   "outputs": [],
   "source": [
    "all_sps = all_shortest_paths(G, ent_a, ent_b)\n",
    "path_graphs = [nx.path_graph(sp) for sp in all_sps]"
   ]
  },
  {
   "cell_type": "code",
   "execution_count": null,
   "id": "satisfied-federal",
   "metadata": {},
   "outputs": [],
   "source": [
    "for idx, p in enumerate(path_graphs):\n",
    "    print(f\"Path {idx+1}\")\n",
    "    for idx, ea in enumerate(p.edges()):\n",
    "        subj = ea[0]\n",
    "        edges = [i[1] for i in G.edges[ea[0], ea[1]]['triples']]\n",
    "        obj = ea[1]\n",
    "        \n",
    "        ent_labels = get_labels([e for e in ea if e.startswith(\"http\")])\n",
    "\n",
    "        if idx +1 < len(p.edges()):\n",
    "            print(f\"- {ent_labels.get(str(subj)) or subj} -> {edges[0]}\")\n",
    "        else:\n",
    "            print(f\"- {ent_labels.get(str(subj)) or subj} -> {edges[0]}\")\n",
    "            print(f\"- {ent_labels.get(str(obj)) or obj}\")\n"
   ]
  },
  {
   "cell_type": "code",
   "execution_count": null,
   "id": "interracial-hayes",
   "metadata": {},
   "outputs": [],
   "source": []
  }
 ],
 "metadata": {
  "kernelspec": {
   "display_name": "Python 3 (ipykernel)",
   "language": "python",
   "name": "python3"
  },
  "language_info": {
   "codemirror_mode": {
    "name": "ipython",
    "version": 3
   },
   "file_extension": ".py",
   "mimetype": "text/x-python",
   "name": "python",
   "nbconvert_exporter": "python",
   "pygments_lexer": "ipython3",
   "version": "3.10.0"
  }
 },
 "nbformat": 4,
 "nbformat_minor": 5
}
