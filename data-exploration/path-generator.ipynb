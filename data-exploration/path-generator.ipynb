{
 "cells": [
  {
   "cell_type": "markdown",
   "metadata": {},
   "source": [
    "# Generating the link-race dataset\n",
    "\n",
    "1. For a given point A & B, find the possible paths, and for each, create a data structure containing the valid path, and options for each node along the way.\n",
    "1. Generate n paths for random A & B objects."
   ]
  },
  {
   "cell_type": "markdown",
   "metadata": {},
   "source": [
    "## Setup (run once per session)\n",
    "\n",
    "This section loads the triples data into memory, it should take about 2 mins to run, but is only necessary when running this for the first time each session"
   ]
  },
  {
   "cell_type": "code",
   "execution_count": 1,
   "metadata": {},
   "outputs": [],
   "source": [
    "from rdflib import Graph\n",
    "from rdflib.extras.external_graph_libs import rdflib_to_networkx_graph\n",
    "import networkx as nx\n",
    "from rdflib import URIRef\n",
    "import json\n",
    "import random\n",
    "from datetime import datetime\n",
    "import requests\n",
    "import api"
   ]
  },
  {
   "cell_type": "code",
   "execution_count": 2,
   "metadata": {},
   "outputs": [],
   "source": [
    "def neighbours(G, edge, n=3):\n",
    "    \"\"\"return the first n neighbours of a given node\n",
    "    \"\"\"\n",
    "    try:\n",
    "        return [i[:] for i in nx.neighbors(G, edge[0]) if (i[:] != edge[1][:]) and (i[:].startswith('http'))][:n]\n",
    "    except TypeError:\n",
    "        return []"
   ]
  },
  {
   "cell_type": "code",
   "execution_count": 3,
   "metadata": {},
   "outputs": [],
   "source": [
    "def get_labels(entities):\n",
    "    url = \"https://d0rgkq.deta.dev/labels\"\n",
    "    payload = json.dumps({\n",
    "      \"uris\": entities\n",
    "    })\n",
    "    headers = {\n",
    "      'Content-Type': 'application/json'\n",
    "    }\n",
    "\n",
    "    return requests.post(url, headers=headers, data=payload).json()\n",
    "\n",
    "# get_labels(['http://collections.vam.ac.uk/item/O1254669'])"
   ]
  },
  {
   "cell_type": "code",
   "execution_count": 4,
   "metadata": {},
   "outputs": [],
   "source": [
    "def path_json(G, A, B):\n",
    "    \"\"\"\n",
    "    For a Graph (G), and start (A) and end (B)\n",
    "    find a path\n",
    "    for each step in path, find nextBestStep, and 3 (random) connected 'neighbour' nodes\n",
    "    \"\"\"\n",
    "    ent_a = URIRef(A)\n",
    "    ent_b = URIRef(B)\n",
    "\n",
    "    # calculating the paths\n",
    "    all_sps = nx.all_shortest_paths(G, ent_a, ent_b)\n",
    "    path_graphs = [nx.path_graph(sp) for sp in all_sps]\n",
    "    path = path_graphs[0]\n",
    "\n",
    "    # for first found path\n",
    "    # list of dicts, where key = each step of the path\n",
    "    # within each dict is nextBestStep, and 3 (random) connected 'neighbour' nodes\n",
    "\n",
    "    path_edges = [i for i in path.edges()]\n",
    "\n",
    "    path_json = []\n",
    "    for edge in path_edges:\n",
    "        neighbours_list = neighbours(G, edge)\n",
    "        if not neighbours_list: neighbours_list = [i[:] for i in random.sample(list(G.nodes()), 3)]\n",
    "        path_json.append({\n",
    "            'url': edge[0][:],\n",
    "            'nextBestStep': edge[1][:],\n",
    "            'neighbours': neighbours_list,\n",
    "            }\n",
    "        )\n",
    "    path_json.append({\n",
    "        'url': path_edges[-1][1][:], \n",
    "        'nextBestStep': 'END',\n",
    "        'neighbours': [],\n",
    "        \n",
    "    })\n",
    "    \n",
    "    return path_json"
   ]
  },
  {
   "cell_type": "code",
   "execution_count": 5,
   "metadata": {},
   "outputs": [],
   "source": [
    "def unique_nodes(paths_json):\n",
    "    all_paths_nodes = []\n",
    "    for path in paths_json:\n",
    "        for node in path:\n",
    "            node_label = node['url']\n",
    "            neighbours = node['neighbours']\n",
    "            nextBestStep = node['nextBestStep']\n",
    "            all_paths_nodes.append([node_label] + neighbours + [nextBestStep])\n",
    "    all_paths_nodes = set([item for sublist in all_paths_nodes for item in sublist])\n",
    "    return list(all_paths_nodes)"
   ]
  },
  {
   "cell_type": "code",
   "execution_count": 6,
   "metadata": {},
   "outputs": [],
   "source": [
    "def write_json(obj, name):\n",
    "    with open(f'{name}.json', 'w') as paths_file:\n",
    "        json.dump(obj, paths_file, indent=2)"
   ]
  },
  {
   "cell_type": "code",
   "execution_count": 7,
   "metadata": {},
   "outputs": [
    {
     "name": "stdout",
     "output_type": "stream",
     "text": [
      "rdflib Graph loaded successfully with 2030542 triples\n"
     ]
    }
   ],
   "source": [
    "path = \"./hc_dump_latest-filtered-20211117-114506.nt\"\n",
    "rg = Graph().parse(path, format='nt')\n",
    "print(\"rdflib Graph loaded successfully with {} triples\".format(len(rg)))"
   ]
  },
  {
   "cell_type": "code",
   "execution_count": 8,
   "metadata": {},
   "outputs": [
    {
     "name": "stdout",
     "output_type": "stream",
     "text": [
      "networkx Graph loaded successfully with length 758632\n"
     ]
    }
   ],
   "source": [
    "G = rdflib_to_networkx_graph(rg)\n",
    "print(\"networkx Graph loaded successfully with length {}\".format(len(G)))"
   ]
  },
  {
   "cell_type": "code",
   "execution_count": 9,
   "metadata": {},
   "outputs": [],
   "source": [
    "nodes_vam = []\n",
    "nodes_sci = []\n",
    "for i in nx.nodes(G):\n",
    "    if 'collections.vam.ac.uk' in str(i):\n",
    "        nodes_vam.append(i)\n",
    "    elif 'collection.sciencemuseumgroup' in str(i):\n",
    "        nodes_sci.append(i)"
   ]
  },
  {
   "cell_type": "markdown",
   "metadata": {},
   "source": [
    "## Path finding"
   ]
  },
  {
   "cell_type": "code",
   "execution_count": 10,
   "metadata": {},
   "outputs": [],
   "source": [
    "# # n random paths\n",
    "# n = 10\n",
    "\n",
    "# paths_json = []\n",
    "# for i in range(n):\n",
    "#     A = random.choice(nodes_vam)\n",
    "#     B = random.choice(nodes_sci)\n",
    "#     try:\n",
    "#         p = path_json(G, A, B)\n",
    "#         print(f'Path {i} - SUCCESS - {A} -> {B}')\n",
    "#     except:\n",
    "#         print(f'Path {i} - FAIL - {A} -> {B}')\n",
    "#     paths_json.append(p)"
   ]
  },
  {
   "cell_type": "code",
   "execution_count": 11,
   "metadata": {},
   "outputs": [
    {
     "name": "stdout",
     "output_type": "stream",
     "text": [
      "Path 0 - SUCCESS - http://collections.vam.ac.uk/item/O755026 -> https://collection.sciencemuseumgroup.org.uk/objects/co8203386\n",
      "Path 1 - SUCCESS - http://collections.vam.ac.uk/item/O675659 -> https://collection.sciencemuseumgroup.org.uk/objects/co85549\n",
      "Path 2 - SUCCESS - http://collections.vam.ac.uk/item/O229512 -> https://collection.sciencemuseumgroup.org.uk/objects/co113666\n",
      "Path 3 - SUCCESS - http://collections.vam.ac.uk/item/O1267685 -> https://collection.sciencemuseumgroup.org.uk/objects/co412022\n",
      "Path 4 - SUCCESS - http://collections.vam.ac.uk/item/O354503 -> https://collection.sciencemuseumgroup.org.uk/objects/co107111\n",
      "Path 5 - SUCCESS - http://collections.vam.ac.uk/item/O1114035 -> https://collection.sciencemuseumgroup.org.uk/objects/co8414500\n",
      "Path 6 - SUCCESS - http://collections.vam.ac.uk/item/O1273343 -> https://collection.sciencemuseumgroup.org.uk/objects/co159111\n",
      "Path 7 - SUCCESS - http://collections.vam.ac.uk/item/O1346307 -> https://collection.sciencemuseumgroup.org.uk/documents/aa110115036\n",
      "Path 8 - SUCCESS - http://collections.vam.ac.uk/item/O224862 -> https://collection.sciencemuseumgroup.org.uk/objects/co181351\n",
      "Path 9 - SUCCESS - http://collections.vam.ac.uk/item/O590605 -> https://collection.sciencemuseumgroup.org.uk/objects/co26352\n"
     ]
    }
   ],
   "source": [
    "ABs = [\n",
    "  ('http://collections.vam.ac.uk/item/O755026', 'https://collection.sciencemuseumgroup.org.uk/objects/co8203386'),\n",
    "  ('http://collections.vam.ac.uk/item/O675659', 'https://collection.sciencemuseumgroup.org.uk/objects/co85549'),\n",
    "  ('http://collections.vam.ac.uk/item/O229512', 'https://collection.sciencemuseumgroup.org.uk/objects/co113666'),\n",
    "  ('http://collections.vam.ac.uk/item/O1267685', 'https://collection.sciencemuseumgroup.org.uk/objects/co412022'),\n",
    "  ('http://collections.vam.ac.uk/item/O354503', 'https://collection.sciencemuseumgroup.org.uk/objects/co107111'),\n",
    "  ('http://collections.vam.ac.uk/item/O1114035', 'https://collection.sciencemuseumgroup.org.uk/objects/co8414500'),\n",
    "  ('http://collections.vam.ac.uk/item/O1273343', 'https://collection.sciencemuseumgroup.org.uk/objects/co159111'),\n",
    "  ('http://collections.vam.ac.uk/item/O1346307', 'https://collection.sciencemuseumgroup.org.uk/documents/aa110115036'),\n",
    "  ('http://collections.vam.ac.uk/item/O224862', 'https://collection.sciencemuseumgroup.org.uk/objects/co181351'),\n",
    "  ('http://collections.vam.ac.uk/item/O590605', 'https://collection.sciencemuseumgroup.org.uk/objects/co26352'),\n",
    "]\n",
    "\n",
    "paths_json = []\n",
    "for i, (A, B) in enumerate(ABs):\n",
    "  try:\n",
    "      p = path_json(G, A, B)\n",
    "      print(f'Path {i} - SUCCESS - {A} -> {B}')\n",
    "  except:\n",
    "      print(f'Path {i} - FAIL - {A} -> {B}')\n",
    "  paths_json.append(p)\n"
   ]
  },
  {
   "cell_type": "code",
   "execution_count": 12,
   "metadata": {},
   "outputs": [],
   "source": [
    "ts = datetime.now().strftime(\"%Y%m%d-%H%M%S\")\n",
    "\n",
    "for path in paths_json:\n",
    "    incr = 100 / (len(path) - 1)\n",
    "    for ix, step in enumerate(path):\n",
    "        step['progress'] = ix * incr\n",
    "\n",
    "with open(f'{ts}-paths.json', 'w') as paths_file:\n",
    "    json.dump(paths_json, paths_file, indent=2)"
   ]
  },
  {
   "cell_type": "code",
   "execution_count": 14,
   "metadata": {},
   "outputs": [],
   "source": [
    "nodes_json = {}\n",
    "for node in unique_nodes(paths_json):\n",
    "    id = node.rsplit('/')[-1]\n",
    "    if 'sciencemuseumgroup.org.uk/objects' in node:\n",
    "        node_meta = api.scimu('objects', id)\n",
    "    elif 'sciencemuseumgroup.org.uk/documents' in node:\n",
    "        node_meta = api.scimu('documents', id)\n",
    "    elif 'sciencemuseumgroup.org.uk/people' in node:\n",
    "        node_meta = api.scimu('people', id)\n",
    "    elif 'collections.vam.ac.uk' in node:\n",
    "        node_meta = api.vanda(id)\n",
    "    elif 'https://api.vam.ac.uk/v2/objects/search?' in node:\n",
    "        node_meta = api.vanda_obj(node)\n",
    "    elif 'wikidata.org' in node:\n",
    "        node_meta = api.wikidata(id)\n",
    "    else:\n",
    "        node_meta = {\n",
    "            'title': '',\n",
    "            'img': '',\n",
    "            'description': ''\n",
    "        }\n",
    "    if node_meta['title'] == '':\n",
    "        node_meta['title'] == node\n",
    "    if node_meta['img'] == '':\n",
    "        node_meta['img'] = 'https://i.pinimg.com/originals/17/fc/a3/17fca30c76af6019df655044072e21a5.jpg'\n",
    "    nodes_json[node] = node_meta\n",
    "\n",
    "    with open(f'{ts}-nodes.json', 'w') as nodes_file:\n",
    "        json.dump(nodes_json, nodes_file, indent=2, sort_keys=True)"
   ]
  }
 ],
 "metadata": {
  "interpreter": {
   "hash": "b334508d208b483b273471960992ad0a85e9509e21e432faf161a8a75e53e20c"
  },
  "kernelspec": {
   "display_name": "Python 3.10.0 64-bit ('heritage-connector': pyenv)",
   "language": "python",
   "name": "python3"
  },
  "language_info": {
   "codemirror_mode": {
    "name": "ipython",
    "version": 3
   },
   "file_extension": ".py",
   "mimetype": "text/x-python",
   "name": "python",
   "nbconvert_exporter": "python",
   "pygments_lexer": "ipython3",
   "version": "3.10.0"
  },
  "orig_nbformat": 4
 },
 "nbformat": 4,
 "nbformat_minor": 2
}
